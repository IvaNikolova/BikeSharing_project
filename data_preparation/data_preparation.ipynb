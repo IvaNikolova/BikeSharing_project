{
 "cells": [
  {
   "cell_type": "code",
   "execution_count": null,
   "metadata": {},
   "outputs": [],
   "source": [
    "import pandas as pd\n",
    "\n",
    "# Load your original CSV file\n",
    "df = pd.read_csv('../datasets/tripdata_05_2024.csv', encoding='cp1252')\n",
    "\n",
    "# Convert the 'Start Time' column to datetime format\n",
    "df['Start Time'] = pd.to_datetime(df['Start Time'])\n",
    "\n",
    "# Filter for a specific date, for example: May 5, 2024\n",
    "target_date = '05/05/2024'\n",
    "filtered_df = df[df['Start Time'].dt.date == pd.to_datetime(target_date).date()]\n",
    "\n",
    "# Save the filtered data to a new CSV file\n",
    "filtered_df.to_csv('../datasets/trips_05_05.csv', index=False)\n",
    "\n",
    "# Optional: Display the first few rows of the filtered data\n",
    "filtered_df.head()\n"
   ]
  }
 ],
 "metadata": {
  "kernelspec": {
   "display_name": "Bike Trip Env",
   "language": "python",
   "name": "venv"
  },
  "language_info": {
   "codemirror_mode": {
    "name": "ipython",
    "version": 3
   },
   "file_extension": ".py",
   "mimetype": "text/x-python",
   "name": "python",
   "nbconvert_exporter": "python",
   "pygments_lexer": "ipython3",
   "version": "3.12.7"
  }
 },
 "nbformat": 4,
 "nbformat_minor": 2
}
