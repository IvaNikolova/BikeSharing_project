{
 "cells": [
  {
   "cell_type": "code",
   "execution_count": null,
   "metadata": {},
   "outputs": [],
   "source": [
    "import pandas as pd\n",
    "\n",
    "# Load your new dataset\n",
    "df = pd.read_csv('../datasets/tripdata_2022.csv', encoding='ISO-8859-1')  # update the filename/path\n",
    "\n",
    "# Convert 'fetcha' to datetime\n",
    "df['fecha'] = pd.to_datetime(df['fecha'])\n",
    "\n",
    "# Choose your target day (e.g., 2023-01-01)\n",
    "target_date = '2022-05-05'\n",
    "filtered_df = df[df['fecha'].dt.date == pd.to_datetime(target_date).date()]\n",
    "\n",
    "# Save to a new CSV\n",
    "filtered_df.to_csv('../datasets/tripdata_2022_05_05.csv', index=False)\n",
    "\n",
    "# Optional: Preview\n",
    "print(filtered_df.head())"
   ]
  }
 ],
 "metadata": {
  "kernelspec": {
   "display_name": "Bike Trip Env",
   "language": "python",
   "name": "venv"
  },
  "language_info": {
   "codemirror_mode": {
    "name": "ipython",
    "version": 3
   },
   "file_extension": ".py",
   "mimetype": "text/x-python",
   "name": "python",
   "nbconvert_exporter": "python",
   "pygments_lexer": "ipython3",
   "version": "3.12.7"
  }
 },
 "nbformat": 4,
 "nbformat_minor": 2
}
