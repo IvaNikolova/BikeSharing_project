{
 "cells": [
  {
   "cell_type": "code",
   "execution_count": null,
   "metadata": {},
   "outputs": [],
   "source": [
    "import pandas as pd\n",
    "import numpy as np\n",
    "import ast\n",
    "\n",
    "\n",
    "# Read the CSV file\n",
    "df = pd.read_csv('../datasets/tripdata_2022_05_05.csv')\n",
    "df.head()"
   ]
  },
  {
   "cell_type": "code",
   "execution_count": 4,
   "metadata": {},
   "outputs": [],
   "source": [
    "# Drop unwanted columns\n",
    "columns_to_drop = [\n",
    "    'fecha',\n",
    "    'idBike',\n",
    "    'fleet',\n",
    "    'locktype',\n",
    "    'unlocktype',\n",
    "    'address_lock',\n",
    "    'address_unlock',\n",
    "    'dock_unlock',\n",
    "    'dock_lock'\n",
    "]\n",
    "\n",
    "df_cleaned = df.drop(columns=columns_to_drop)\n",
    "\n",
    "# Optional: Preview the result\n",
    "df_cleaned.head()\n",
    "df_cleaned.to_csv('../datasets/tripdata_2022_05_05.csv', index=False)"
   ]
  },
  {
   "cell_type": "code",
   "execution_count": null,
   "metadata": {},
   "outputs": [],
   "source": [
    "#Creating all_stations.csv\n",
    "def extract_coordinates(geo_str):\n",
    "    try:\n",
    "        geo_dict = ast.literal_eval(geo_str)\n",
    "        lon, lat = geo_dict['coordinates']\n",
    "        return pd.Series([lat, lon])\n",
    "    except:\n",
    "        return pd.Series([None, None])\n",
    "\n",
    "# Extract lat/lon\n",
    "df[['lat', 'lon']] = df['geolocation_unlock'].apply(extract_coordinates)\n",
    "\n",
    "# Select station ID, name, and coordinates\n",
    "station_df = df[['station_unlock', 'unlock_station_name', 'lat', 'lon']]\n",
    "\n",
    "# Drop duplicates so we only have one row per station\n",
    "station_df = station_df.drop_duplicates()\n",
    "\n",
    "# Save to CSV\n",
    "station_df.to_csv('../datasets/all_stations.csv', index=False)\n",
    "station_df.head()"
   ]
  },
  {
   "cell_type": "code",
   "execution_count": null,
   "metadata": {},
   "outputs": [],
   "source": [
    "# Creating all_trips.csv\n",
    "trips_df = df[['id', 'unlock_date', 'lock_date', 'station_unlock', 'station_lock', 'trip_minutes']]\n",
    "\n",
    "# Remove rows with missing critical data (e.g., trips with no end time or duration)\n",
    "trips_df = trips_df.dropna(subset=['unlock_date', 'lock_date', 'trip_minutes'])\n",
    "\n",
    "# Save to CSV\n",
    "trips_df.to_csv('../datasets/all_trips.csv', index=False)\n",
    "trips_df.head()"
   ]
  }
 ],
 "metadata": {
  "kernelspec": {
   "display_name": "Bike Trip Env",
   "language": "python",
   "name": "venv"
  },
  "language_info": {
   "codemirror_mode": {
    "name": "ipython",
    "version": 3
   },
   "file_extension": ".py",
   "mimetype": "text/x-python",
   "name": "python",
   "nbconvert_exporter": "python",
   "pygments_lexer": "ipython3",
   "version": "3.12.7"
  }
 },
 "nbformat": 4,
 "nbformat_minor": 2
}
